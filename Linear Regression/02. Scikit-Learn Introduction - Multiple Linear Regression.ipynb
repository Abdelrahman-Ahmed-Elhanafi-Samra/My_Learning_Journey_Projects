{
 "cells": [
  {
   "cell_type": "markdown",
   "id": "8c7f146a",
   "metadata": {},
   "source": [
    "<img src=\"files\\Multiple Linear Regression with Python1.png\"\n",
    "     alt=\"Multiple Linear Regression with Python\"\n",
    "     style=\"float: left; margin-right: 10px;\" />"
   ]
  },
  {
   "cell_type": "markdown",
   "id": "c10af832",
   "metadata": {},
   "source": [
    "____________________________________________________________________________________________________\n",
    "# <span style=\"color:Purple\">Hello this is, *Multiple Linear Regression with Python*</span>. 🤖💻\n",
    "____________________________________________________________________________________________________"
   ]
  },
  {
   "cell_type": "markdown",
   "id": "78d5b3ed",
   "metadata": {},
   "source": [
    "## Setting Up the Working Environment 🛠️"
   ]
  },
  {
   "cell_type": "code",
   "execution_count": 1,
   "id": "0b98913d",
   "metadata": {},
   "outputs": [],
   "source": [
    "import pandas as pd\n",
    "import numpy as np\n",
    "import matplotlib.pyplot as plt\n",
    "import seaborn as sns\n",
    "%matplotlib inline"
   ]
  },
  {
   "cell_type": "markdown",
   "id": "b98d4935",
   "metadata": {},
   "source": [
    "## Importing Datasets 📖\n",
    "\n",
    "```python\n",
    "from sklearn import datasets\n",
    "```"
   ]
  },
  {
   "cell_type": "code",
   "execution_count": 2,
   "id": "7192014f",
   "metadata": {},
   "outputs": [],
   "source": [
    "from sklearn.datasets import load_boston\n",
    "\n",
    "# ---------------------------------\n",
    "import warnings\n",
    "warnings.filterwarnings('ignore')"
   ]
  },
  {
   "cell_type": "markdown",
   "id": "1ae0f336",
   "metadata": {},
   "source": [
    "## The Working Dataset 🔎"
   ]
  },
  {
   "cell_type": "code",
   "execution_count": 3,
   "id": "ae5d63bd",
   "metadata": {},
   "outputs": [],
   "source": [
    "# Setting X and y\n",
    "X = load_boston().data\n",
    "y = load_boston().target"
   ]
  },
  {
   "cell_type": "code",
   "execution_count": 4,
   "id": "9c8829aa",
   "metadata": {
    "scrolled": true
   },
   "outputs": [
    {
     "data": {
      "text/html": [
       "<div>\n",
       "<style scoped>\n",
       "    .dataframe tbody tr th:only-of-type {\n",
       "        vertical-align: middle;\n",
       "    }\n",
       "\n",
       "    .dataframe tbody tr th {\n",
       "        vertical-align: top;\n",
       "    }\n",
       "\n",
       "    .dataframe thead th {\n",
       "        text-align: right;\n",
       "    }\n",
       "</style>\n",
       "<table border=\"1\" class=\"dataframe\">\n",
       "  <thead>\n",
       "    <tr style=\"text-align: right;\">\n",
       "      <th></th>\n",
       "      <th>CRIM</th>\n",
       "      <th>ZN</th>\n",
       "      <th>INDUS</th>\n",
       "      <th>CHAS</th>\n",
       "      <th>NOX</th>\n",
       "      <th>RM</th>\n",
       "      <th>AGE</th>\n",
       "      <th>DIS</th>\n",
       "      <th>RAD</th>\n",
       "      <th>TAX</th>\n",
       "      <th>PTRATIO</th>\n",
       "      <th>B</th>\n",
       "      <th>LSTAT</th>\n",
       "    </tr>\n",
       "  </thead>\n",
       "  <tbody>\n",
       "    <tr>\n",
       "      <th>0</th>\n",
       "      <td>0.00632</td>\n",
       "      <td>18.0</td>\n",
       "      <td>2.31</td>\n",
       "      <td>0.0</td>\n",
       "      <td>0.538</td>\n",
       "      <td>6.575</td>\n",
       "      <td>65.2</td>\n",
       "      <td>4.0900</td>\n",
       "      <td>1.0</td>\n",
       "      <td>296.0</td>\n",
       "      <td>15.3</td>\n",
       "      <td>396.90</td>\n",
       "      <td>4.98</td>\n",
       "    </tr>\n",
       "    <tr>\n",
       "      <th>1</th>\n",
       "      <td>0.02731</td>\n",
       "      <td>0.0</td>\n",
       "      <td>7.07</td>\n",
       "      <td>0.0</td>\n",
       "      <td>0.469</td>\n",
       "      <td>6.421</td>\n",
       "      <td>78.9</td>\n",
       "      <td>4.9671</td>\n",
       "      <td>2.0</td>\n",
       "      <td>242.0</td>\n",
       "      <td>17.8</td>\n",
       "      <td>396.90</td>\n",
       "      <td>9.14</td>\n",
       "    </tr>\n",
       "    <tr>\n",
       "      <th>2</th>\n",
       "      <td>0.02729</td>\n",
       "      <td>0.0</td>\n",
       "      <td>7.07</td>\n",
       "      <td>0.0</td>\n",
       "      <td>0.469</td>\n",
       "      <td>7.185</td>\n",
       "      <td>61.1</td>\n",
       "      <td>4.9671</td>\n",
       "      <td>2.0</td>\n",
       "      <td>242.0</td>\n",
       "      <td>17.8</td>\n",
       "      <td>392.83</td>\n",
       "      <td>4.03</td>\n",
       "    </tr>\n",
       "    <tr>\n",
       "      <th>3</th>\n",
       "      <td>0.03237</td>\n",
       "      <td>0.0</td>\n",
       "      <td>2.18</td>\n",
       "      <td>0.0</td>\n",
       "      <td>0.458</td>\n",
       "      <td>6.998</td>\n",
       "      <td>45.8</td>\n",
       "      <td>6.0622</td>\n",
       "      <td>3.0</td>\n",
       "      <td>222.0</td>\n",
       "      <td>18.7</td>\n",
       "      <td>394.63</td>\n",
       "      <td>2.94</td>\n",
       "    </tr>\n",
       "    <tr>\n",
       "      <th>4</th>\n",
       "      <td>0.06905</td>\n",
       "      <td>0.0</td>\n",
       "      <td>2.18</td>\n",
       "      <td>0.0</td>\n",
       "      <td>0.458</td>\n",
       "      <td>7.147</td>\n",
       "      <td>54.2</td>\n",
       "      <td>6.0622</td>\n",
       "      <td>3.0</td>\n",
       "      <td>222.0</td>\n",
       "      <td>18.7</td>\n",
       "      <td>396.90</td>\n",
       "      <td>5.33</td>\n",
       "    </tr>\n",
       "  </tbody>\n",
       "</table>\n",
       "</div>"
      ],
      "text/plain": [
       "      CRIM    ZN  INDUS  CHAS    NOX     RM   AGE     DIS  RAD    TAX  \\\n",
       "0  0.00632  18.0   2.31   0.0  0.538  6.575  65.2  4.0900  1.0  296.0   \n",
       "1  0.02731   0.0   7.07   0.0  0.469  6.421  78.9  4.9671  2.0  242.0   \n",
       "2  0.02729   0.0   7.07   0.0  0.469  7.185  61.1  4.9671  2.0  242.0   \n",
       "3  0.03237   0.0   2.18   0.0  0.458  6.998  45.8  6.0622  3.0  222.0   \n",
       "4  0.06905   0.0   2.18   0.0  0.458  7.147  54.2  6.0622  3.0  222.0   \n",
       "\n",
       "   PTRATIO       B  LSTAT  \n",
       "0     15.3  396.90   4.98  \n",
       "1     17.8  396.90   9.14  \n",
       "2     17.8  392.83   4.03  \n",
       "3     18.7  394.63   2.94  \n",
       "4     18.7  396.90   5.33  "
      ]
     },
     "execution_count": 4,
     "metadata": {},
     "output_type": "execute_result"
    }
   ],
   "source": [
    "# Transeform X into dataframe\n",
    "boston = pd.DataFrame(X, columns = load_boston().feature_names)\n",
    "boston.head()"
   ]
  },
  {
   "cell_type": "code",
   "execution_count": 5,
   "id": "11a66ef5",
   "metadata": {},
   "outputs": [
    {
     "data": {
      "text/html": [
       "<div>\n",
       "<style scoped>\n",
       "    .dataframe tbody tr th:only-of-type {\n",
       "        vertical-align: middle;\n",
       "    }\n",
       "\n",
       "    .dataframe tbody tr th {\n",
       "        vertical-align: top;\n",
       "    }\n",
       "\n",
       "    .dataframe thead th {\n",
       "        text-align: right;\n",
       "    }\n",
       "</style>\n",
       "<table border=\"1\" class=\"dataframe\">\n",
       "  <thead>\n",
       "    <tr style=\"text-align: right;\">\n",
       "      <th></th>\n",
       "      <th>Price</th>\n",
       "      <th>CRIM</th>\n",
       "      <th>ZN</th>\n",
       "      <th>INDUS</th>\n",
       "      <th>CHAS</th>\n",
       "      <th>NOX</th>\n",
       "      <th>RM</th>\n",
       "      <th>AGE</th>\n",
       "      <th>DIS</th>\n",
       "      <th>RAD</th>\n",
       "      <th>TAX</th>\n",
       "      <th>PTRATIO</th>\n",
       "      <th>B</th>\n",
       "      <th>LSTAT</th>\n",
       "    </tr>\n",
       "  </thead>\n",
       "  <tbody>\n",
       "    <tr>\n",
       "      <th>0</th>\n",
       "      <td>24.0</td>\n",
       "      <td>0.00632</td>\n",
       "      <td>18.0</td>\n",
       "      <td>2.31</td>\n",
       "      <td>0.0</td>\n",
       "      <td>0.538</td>\n",
       "      <td>6.575</td>\n",
       "      <td>65.2</td>\n",
       "      <td>4.0900</td>\n",
       "      <td>1.0</td>\n",
       "      <td>296.0</td>\n",
       "      <td>15.3</td>\n",
       "      <td>396.90</td>\n",
       "      <td>4.98</td>\n",
       "    </tr>\n",
       "    <tr>\n",
       "      <th>1</th>\n",
       "      <td>21.6</td>\n",
       "      <td>0.02731</td>\n",
       "      <td>0.0</td>\n",
       "      <td>7.07</td>\n",
       "      <td>0.0</td>\n",
       "      <td>0.469</td>\n",
       "      <td>6.421</td>\n",
       "      <td>78.9</td>\n",
       "      <td>4.9671</td>\n",
       "      <td>2.0</td>\n",
       "      <td>242.0</td>\n",
       "      <td>17.8</td>\n",
       "      <td>396.90</td>\n",
       "      <td>9.14</td>\n",
       "    </tr>\n",
       "    <tr>\n",
       "      <th>2</th>\n",
       "      <td>34.7</td>\n",
       "      <td>0.02729</td>\n",
       "      <td>0.0</td>\n",
       "      <td>7.07</td>\n",
       "      <td>0.0</td>\n",
       "      <td>0.469</td>\n",
       "      <td>7.185</td>\n",
       "      <td>61.1</td>\n",
       "      <td>4.9671</td>\n",
       "      <td>2.0</td>\n",
       "      <td>242.0</td>\n",
       "      <td>17.8</td>\n",
       "      <td>392.83</td>\n",
       "      <td>4.03</td>\n",
       "    </tr>\n",
       "    <tr>\n",
       "      <th>3</th>\n",
       "      <td>33.4</td>\n",
       "      <td>0.03237</td>\n",
       "      <td>0.0</td>\n",
       "      <td>2.18</td>\n",
       "      <td>0.0</td>\n",
       "      <td>0.458</td>\n",
       "      <td>6.998</td>\n",
       "      <td>45.8</td>\n",
       "      <td>6.0622</td>\n",
       "      <td>3.0</td>\n",
       "      <td>222.0</td>\n",
       "      <td>18.7</td>\n",
       "      <td>394.63</td>\n",
       "      <td>2.94</td>\n",
       "    </tr>\n",
       "    <tr>\n",
       "      <th>4</th>\n",
       "      <td>36.2</td>\n",
       "      <td>0.06905</td>\n",
       "      <td>0.0</td>\n",
       "      <td>2.18</td>\n",
       "      <td>0.0</td>\n",
       "      <td>0.458</td>\n",
       "      <td>7.147</td>\n",
       "      <td>54.2</td>\n",
       "      <td>6.0622</td>\n",
       "      <td>3.0</td>\n",
       "      <td>222.0</td>\n",
       "      <td>18.7</td>\n",
       "      <td>396.90</td>\n",
       "      <td>5.33</td>\n",
       "    </tr>\n",
       "  </tbody>\n",
       "</table>\n",
       "</div>"
      ],
      "text/plain": [
       "   Price     CRIM    ZN  INDUS  CHAS    NOX     RM   AGE     DIS  RAD    TAX  \\\n",
       "0   24.0  0.00632  18.0   2.31   0.0  0.538  6.575  65.2  4.0900  1.0  296.0   \n",
       "1   21.6  0.02731   0.0   7.07   0.0  0.469  6.421  78.9  4.9671  2.0  242.0   \n",
       "2   34.7  0.02729   0.0   7.07   0.0  0.469  7.185  61.1  4.9671  2.0  242.0   \n",
       "3   33.4  0.03237   0.0   2.18   0.0  0.458  6.998  45.8  6.0622  3.0  222.0   \n",
       "4   36.2  0.06905   0.0   2.18   0.0  0.458  7.147  54.2  6.0622  3.0  222.0   \n",
       "\n",
       "   PTRATIO       B  LSTAT  \n",
       "0     15.3  396.90   4.98  \n",
       "1     17.8  396.90   9.14  \n",
       "2     17.8  392.83   4.03  \n",
       "3     18.7  394.63   2.94  \n",
       "4     18.7  396.90   5.33  "
      ]
     },
     "execution_count": 5,
     "metadata": {},
     "output_type": "execute_result"
    }
   ],
   "source": [
    "# Inserting the target variable (y) to the DataFrame\n",
    "boston.insert(0, 'Price', y)\n",
    "boston.head()"
   ]
  },
  {
   "cell_type": "markdown",
   "id": "564d5d19",
   "metadata": {},
   "source": [
    "## Using sklearn to build regression model 🧪"
   ]
  },
  {
   "cell_type": "code",
   "execution_count": 6,
   "id": "486de5ff",
   "metadata": {},
   "outputs": [],
   "source": [
    "# Import LinearRegression from sklear.linear_model\n",
    "from sklearn.linear_model import LinearRegression"
   ]
  },
  {
   "cell_type": "code",
   "execution_count": 7,
   "id": "564479cb",
   "metadata": {},
   "outputs": [],
   "source": [
    "# Instantiation/create a LinearRegression object\n",
    "lm_reg = LinearRegression()"
   ]
  },
  {
   "cell_type": "code",
   "execution_count": 8,
   "id": "501f711b",
   "metadata": {},
   "outputs": [
    {
     "data": {
      "text/plain": [
       "sklearn.linear_model._base.LinearRegression"
      ]
     },
     "execution_count": 8,
     "metadata": {},
     "output_type": "execute_result"
    }
   ],
   "source": [
    "type(lm_reg)"
   ]
  },
  {
   "cell_type": "markdown",
   "id": "9cd8a8fc",
   "metadata": {},
   "source": [
    "## Fitting Linear Regression"
   ]
  },
  {
   "cell_type": "code",
   "execution_count": 9,
   "id": "f9a63c93",
   "metadata": {},
   "outputs": [
    {
     "data": {
      "text/plain": [
       "LinearRegression()"
      ]
     },
     "execution_count": 9,
     "metadata": {},
     "output_type": "execute_result"
    }
   ],
   "source": [
    "# Fit linear model\n",
    "lm_reg.fit(X, y)"
   ]
  },
  {
   "cell_type": "markdown",
   "id": "744f215d",
   "metadata": {},
   "source": [
    "## Check the lm object ☑️"
   ]
  },
  {
   "cell_type": "code",
   "execution_count": 10,
   "id": "ec8cb9aa",
   "metadata": {},
   "outputs": [
    {
     "name": "stdout",
     "output_type": "stream",
     "text": [
      "['_abc_impl', '_check_feature_names', '_check_n_features', '_decision_function', '_estimator_type', '_get_param_names', '_get_tags', '_more_tags', '_preprocess_data', '_repr_html_', '_repr_html_inner', '_repr_mimebundle_', '_residues', '_set_intercept', '_validate_data', 'coef_', 'copy_X', 'fit', 'fit_intercept', 'get_params', 'intercept_', 'n_features_in_', 'n_jobs', 'normalize', 'positive', 'predict', 'rank_', 'score', 'set_params', 'singular_']\n"
     ]
    }
   ],
   "source": [
    "print([attr for attr in dir(lm_reg) if '_' and '__' not in attr])"
   ]
  },
  {
   "cell_type": "markdown",
   "id": "307bc2f9",
   "metadata": {},
   "source": [
    "## Checking the parameters ☑️"
   ]
  },
  {
   "cell_type": "code",
   "execution_count": 11,
   "id": "3dd0d8bf",
   "metadata": {},
   "outputs": [
    {
     "name": "stdout",
     "output_type": "stream",
     "text": [
      "The model intercept value is 36.459\n"
     ]
    }
   ],
   "source": [
    "# Intercept\n",
    "print('The model intercept value is {:.3f}'.format(lm_reg.intercept_))"
   ]
  },
  {
   "cell_type": "code",
   "execution_count": 12,
   "id": "73f2eaf5",
   "metadata": {},
   "outputs": [
    {
     "data": {
      "text/plain": [
       "[('CRIM', -0.10801135783679539),\n",
       " ('ZN', 0.04642045836687953),\n",
       " ('INDUS', 0.020558626367068917),\n",
       " ('CHAS', 2.6867338193448442),\n",
       " ('NOX', -17.766611228299986),\n",
       " ('RM', 3.8098652068092282),\n",
       " ('AGE', 0.0006922246403431768),\n",
       " ('DIS', -1.47556684560025),\n",
       " ('RAD', 0.30604947898516427),\n",
       " ('TAX', -0.012334593916574021),\n",
       " ('PTRATIO', -0.9527472317072921),\n",
       " ('B', 0.00931168327379375),\n",
       " ('LSTAT', -0.5247583778554881)]"
      ]
     },
     "execution_count": 12,
     "metadata": {},
     "output_type": "execute_result"
    }
   ],
   "source": [
    "# Coefficients\n",
    "# zipping coefficients with their names\n",
    "coefs = list(zip(boston.columns[1:], lm_reg.coef_))\n",
    "coefs"
   ]
  },
  {
   "cell_type": "code",
   "execution_count": 13,
   "id": "7d42d77c",
   "metadata": {},
   "outputs": [
    {
     "name": "stdout",
     "output_type": "stream",
     "text": [
      "The CRIM    coefficient is:  -0.1080\n",
      "The ZN      coefficient is:   0.0464\n",
      "The INDUS   coefficient is:   0.0206\n",
      "The CHAS    coefficient is:   2.6867\n",
      "The NOX     coefficient is: -17.7666\n",
      "The RM      coefficient is:   3.8099\n",
      "The AGE     coefficient is:   0.0007\n",
      "The DIS     coefficient is:  -1.4756\n",
      "The RAD     coefficient is:   0.3060\n",
      "The TAX     coefficient is:  -0.0123\n",
      "The PTRATIO coefficient is:  -0.9527\n",
      "The B       coefficient is:   0.0093\n",
      "The LSTAT   coefficient is:  -0.5248\n"
     ]
    }
   ],
   "source": [
    "# print the parameters (Coefficients)\n",
    "for column_name, coef in coefs:\n",
    "    print(\"The {0:7s} coefficient is: {1:8.4f}\".format(column_name, coef))"
   ]
  },
  {
   "cell_type": "markdown",
   "id": "8e969f35",
   "metadata": {},
   "source": [
    "## Saving the results into a table 💾"
   ]
  },
  {
   "cell_type": "code",
   "execution_count": 14,
   "id": "d9a7db9e",
   "metadata": {},
   "outputs": [
    {
     "data": {
      "text/html": [
       "<div>\n",
       "<style scoped>\n",
       "    .dataframe tbody tr th:only-of-type {\n",
       "        vertical-align: middle;\n",
       "    }\n",
       "\n",
       "    .dataframe tbody tr th {\n",
       "        vertical-align: top;\n",
       "    }\n",
       "\n",
       "    .dataframe thead th {\n",
       "        text-align: right;\n",
       "    }\n",
       "</style>\n",
       "<table border=\"1\" class=\"dataframe\">\n",
       "  <thead>\n",
       "    <tr style=\"text-align: right;\">\n",
       "      <th></th>\n",
       "      <th>Variable</th>\n",
       "      <th>Coefficient</th>\n",
       "    </tr>\n",
       "  </thead>\n",
       "  <tbody>\n",
       "    <tr>\n",
       "      <th>0</th>\n",
       "      <td>CRIM</td>\n",
       "      <td>-0.108011</td>\n",
       "    </tr>\n",
       "    <tr>\n",
       "      <th>1</th>\n",
       "      <td>ZN</td>\n",
       "      <td>0.046420</td>\n",
       "    </tr>\n",
       "    <tr>\n",
       "      <th>2</th>\n",
       "      <td>INDUS</td>\n",
       "      <td>0.020559</td>\n",
       "    </tr>\n",
       "    <tr>\n",
       "      <th>3</th>\n",
       "      <td>CHAS</td>\n",
       "      <td>2.686734</td>\n",
       "    </tr>\n",
       "    <tr>\n",
       "      <th>4</th>\n",
       "      <td>NOX</td>\n",
       "      <td>-17.766611</td>\n",
       "    </tr>\n",
       "    <tr>\n",
       "      <th>5</th>\n",
       "      <td>RM</td>\n",
       "      <td>3.809865</td>\n",
       "    </tr>\n",
       "    <tr>\n",
       "      <th>6</th>\n",
       "      <td>AGE</td>\n",
       "      <td>0.000692</td>\n",
       "    </tr>\n",
       "    <tr>\n",
       "      <th>7</th>\n",
       "      <td>DIS</td>\n",
       "      <td>-1.475567</td>\n",
       "    </tr>\n",
       "    <tr>\n",
       "      <th>8</th>\n",
       "      <td>RAD</td>\n",
       "      <td>0.306049</td>\n",
       "    </tr>\n",
       "    <tr>\n",
       "      <th>9</th>\n",
       "      <td>TAX</td>\n",
       "      <td>-0.012335</td>\n",
       "    </tr>\n",
       "    <tr>\n",
       "      <th>10</th>\n",
       "      <td>PTRATIO</td>\n",
       "      <td>-0.952747</td>\n",
       "    </tr>\n",
       "    <tr>\n",
       "      <th>11</th>\n",
       "      <td>B</td>\n",
       "      <td>0.009312</td>\n",
       "    </tr>\n",
       "    <tr>\n",
       "      <th>12</th>\n",
       "      <td>LSTAT</td>\n",
       "      <td>-0.524758</td>\n",
       "    </tr>\n",
       "  </tbody>\n",
       "</table>\n",
       "</div>"
      ],
      "text/plain": [
       "   Variable  Coefficient\n",
       "0      CRIM    -0.108011\n",
       "1        ZN     0.046420\n",
       "2     INDUS     0.020559\n",
       "3      CHAS     2.686734\n",
       "4       NOX   -17.766611\n",
       "5        RM     3.809865\n",
       "6       AGE     0.000692\n",
       "7       DIS    -1.475567\n",
       "8       RAD     0.306049\n",
       "9       TAX    -0.012335\n",
       "10  PTRATIO    -0.952747\n",
       "11        B     0.009312\n",
       "12    LSTAT    -0.524758"
      ]
     },
     "execution_count": 14,
     "metadata": {},
     "output_type": "execute_result"
    }
   ],
   "source": [
    "results = pd.DataFrame(coefs, columns = [\"Variable\", \"Coefficient\"])\n",
    "results"
   ]
  },
  {
   "cell_type": "markdown",
   "id": "ffb32d1c",
   "metadata": {},
   "source": [
    "## Prediction 🏆\n",
    "\n",
    "\n",
    "\n",
    " - Syntax: \n",
    "```python\n",
    "   y_pred = lm_reg.predict(new_data)\n",
    "```"
   ]
  },
  {
   "cell_type": "code",
   "execution_count": 15,
   "id": "fe98a326",
   "metadata": {},
   "outputs": [],
   "source": [
    "y_pred = lm_reg.predict(X) # I using the same data for educational purposes only"
   ]
  },
  {
   "cell_type": "markdown",
   "id": "c65aea2b",
   "metadata": {},
   "source": [
    "# The Goodness-of-Fit 🥇\n",
    "\n",
    "## Model Performance\n",
    "After learning how to fit a model, and how to do prediction, you need to a tool to measure the performance of your model. In linear regression problems, we have many metrics, and each metric has its strengths and its weaknesses; however, there are common ones used listed below:\n",
    "\n",
    "### The model Scores\n",
    "1. R^2 (Coefficient of Determination)\n",
    "2. MAE (mean squared error)\n",
    "3. RMSE (Root Mean Squared Error)"
   ]
  },
  {
   "cell_type": "code",
   "execution_count": 16,
   "id": "45128807",
   "metadata": {},
   "outputs": [],
   "source": [
    "# Import the necessary metrics\n",
    "from sklearn.metrics import mean_squared_error, mean_absolute_error, r2_score"
   ]
  },
  {
   "cell_type": "code",
   "execution_count": 17,
   "id": "6c82d838",
   "metadata": {},
   "outputs": [
    {
     "name": "stdout",
     "output_type": "stream",
     "text": [
      "The R^2 (Coefficient of Determination) of model is: 0.7406\n"
     ]
    }
   ],
   "source": [
    "# print the R^2\n",
    "print(\"The R^2 (Coefficient of Determination) of model is: {:.4f}\".format(r2_score(y, y_pred)))"
   ]
  },
  {
   "cell_type": "code",
   "execution_count": 18,
   "id": "cba90645",
   "metadata": {},
   "outputs": [
    {
     "name": "stdout",
     "output_type": "stream",
     "text": [
      "The Mean Squared Error of model is: 21.8948\n"
     ]
    }
   ],
   "source": [
    "# The mean squared error\n",
    "print(\"The Mean Squared Error of model is: {:.4f}\".format(mean_squared_error(y, y_pred)))"
   ]
  },
  {
   "cell_type": "code",
   "execution_count": 19,
   "id": "b8b5ada1",
   "metadata": {},
   "outputs": [
    {
     "name": "stdout",
     "output_type": "stream",
     "text": [
      "The Root Mean Squared Error of model is: 4.6792\n"
     ]
    }
   ],
   "source": [
    "# The root mean squared error\n",
    "# note: there is not found RMSE build in function in sklearn\n",
    "print(\"The Root Mean Squared Error of model is: {:.4f}\".format(np.sqrt(mean_squared_error(y, y_pred))))"
   ]
  },
  {
   "cell_type": "code",
   "execution_count": 20,
   "id": "b3913b12",
   "metadata": {},
   "outputs": [
    {
     "name": "stdout",
     "output_type": "stream",
     "text": [
      "The Mean Absolute Error of model is: 3.2709\n"
     ]
    }
   ],
   "source": [
    "# The mean Absolute error\n",
    "print(\"The Mean Absolute Error of model is: {:.4f}\".format(mean_absolute_error(y, y_pred)))"
   ]
  },
  {
   "cell_type": "markdown",
   "id": "35811258",
   "metadata": {},
   "source": [
    "## Machine Learning Process\n",
    "Building Machine Learning Models goes through several steps, which we mention here briefly:\n",
    "\n",
    "1. Step 1: **Extracting features:** Datasets don't typically come naturally with clear features, so there's work to be done in reformatting the dataset. Additionally, you need to decide what features you want to begin with.\n",
    "\n",
    "\n",
    "2. Step 2: **Dataset splitting:** split the dataset into two datasets: the test and train dataset.\n",
    "\n",
    "\n",
    "3. Step 3: **Model Training:** Train the model on training set.\n",
    "\n",
    "\n",
    "4. Step 4: **Model Evaluation:** The model has to be evaluated on the test set. Model evaluation is performed many times, not just once.\n",
    "\n",
    "- In model evaluation, a threshold based on a calculate metric must be decided to in order to decide whether the model is useful and can be used in practice.\n",
    "- If the model is not good, we need to move back to training step to tune the model, considering other solutions considering the inputs.\n",
    "- We go back and forth between building and testing several times until we are satisfied about our model.\n",
    "\n",
    "- If the model is not improving, maybe because of small dataset, or not enough features ... etc."
   ]
  },
  {
   "cell_type": "markdown",
   "id": "839c4458",
   "metadata": {},
   "source": [
    "<img src=\"files\\ML process.png\"\n",
    "     alt=\"ML process\"\n",
    "     style=\"float: left; margin-right: 10px;\" />"
   ]
  },
  {
   "cell_type": "markdown",
   "id": "8f54a1c1",
   "metadata": {},
   "source": [
    "# Train-Test and Model Validation 🗃️\n",
    "\n",
    "## Splitting The Dataset Using sk-learn\n",
    "- First, import **train_test_split()** **from sklearn.model selection**.\n",
    "\n",
    "- Use the **train_test_split()** to randomly split the data.\n",
    "\n",
    "### **train_test_split()** has few arguments:\n",
    "\n",
    "- ***arrays:** This mean you pass first feature data, and the second the target data.\n",
    "- **test_size** argument specifies what proportion of the original data is used for the test set (20%, 25%, 30% are common used proportions)\n",
    "- **random_state** sets a seed for the random number generator that splits the data into train and test. Setting the seed with the same number allows us to reproduce the exact split so we get the same results.\n",
    "- **shuffle** by default is **True**, which shuffles the data to ensure that data is not ordered in any way.\n",
    "- **stratify** This is useful in classification problems. **Stratification** means the same proportion of **events** and **non-events** are the same in both train and test sets. (we will use it in comming lectures)"
   ]
  },
  {
   "cell_type": "code",
   "execution_count": 21,
   "id": "9b56e069",
   "metadata": {},
   "outputs": [],
   "source": [
    "# Import train_test_split from sklearn.model_selection\n",
    "from sklearn.model_selection import train_test_split"
   ]
  },
  {
   "cell_type": "code",
   "execution_count": 22,
   "id": "98a18378",
   "metadata": {},
   "outputs": [],
   "source": [
    "# Create the training and test sets\n",
    "X_train, X_test, y_train, y_test = train_test_split(X, y, \n",
    "                                                    test_size = 0.2,\n",
    "                                                    random_state = 10121)"
   ]
  },
  {
   "cell_type": "code",
   "execution_count": 23,
   "id": "8ea9f109",
   "metadata": {},
   "outputs": [
    {
     "name": "stdout",
     "output_type": "stream",
     "text": [
      "(404, 13) (102, 13) (404,) (102,)\n"
     ]
    }
   ],
   "source": [
    "# Print shapes of the training and testing data sets\n",
    "print(X_train.shape, X_test.shape, y_train.shape, y_test.shape)"
   ]
  },
  {
   "cell_type": "markdown",
   "id": "1cdc40a6",
   "metadata": {},
   "source": [
    "## Model Training 🤖🦿"
   ]
  },
  {
   "cell_type": "code",
   "execution_count": 24,
   "id": "b683d249",
   "metadata": {},
   "outputs": [],
   "source": [
    "# Instantiation/create a LinearRegression object\n",
    "lm = LinearRegression()"
   ]
  },
  {
   "cell_type": "code",
   "execution_count": 25,
   "id": "a51f6a87",
   "metadata": {},
   "outputs": [
    {
     "data": {
      "text/plain": [
       "LinearRegression()"
      ]
     },
     "execution_count": 25,
     "metadata": {},
     "output_type": "execute_result"
    }
   ],
   "source": [
    "# fit the model on the training set\n",
    "lm.fit(X_train, y_train)"
   ]
  },
  {
   "cell_type": "markdown",
   "id": "ab80891b",
   "metadata": {},
   "source": [
    "## Prediction 🏆\n",
    "\n",
    "\n",
    "\n",
    " - Syntax: \n",
    "```python\n",
    "   y_pred = lm_reg.predict(new_data)\n",
    "```"
   ]
  },
  {
   "cell_type": "code",
   "execution_count": 26,
   "id": "12218748",
   "metadata": {},
   "outputs": [],
   "source": [
    "# Predict on train set\n",
    "pred_train = lm.predict(X_train)\n",
    "# Predict on test set\n",
    "pred_test = lm.predict(X_test)"
   ]
  },
  {
   "cell_type": "markdown",
   "id": "aa0b5a25",
   "metadata": {},
   "source": [
    "## Model Evaluation 🥇"
   ]
  },
  {
   "cell_type": "code",
   "execution_count": 27,
   "id": "240bd5ea",
   "metadata": {},
   "outputs": [
    {
     "name": "stdout",
     "output_type": "stream",
     "text": [
      "The R^2 on the train set is: 0.7404\n"
     ]
    }
   ],
   "source": [
    "# The R^2 Score\n",
    "print(\"The R^2 on the train set is: {:.4f}\".format(r2_score(y_train ,pred_train)))"
   ]
  },
  {
   "cell_type": "code",
   "execution_count": 28,
   "id": "b4a2c213",
   "metadata": {},
   "outputs": [
    {
     "name": "stdout",
     "output_type": "stream",
     "text": [
      "The R^2 on the test set is: 0.7246\n"
     ]
    }
   ],
   "source": [
    "# The R^2 Score\n",
    "print(\"The R^2 on the test set is: {:.4f}\".format(r2_score(y_test, pred_test)))"
   ]
  },
  {
   "cell_type": "code",
   "execution_count": 29,
   "id": "1222df3a",
   "metadata": {},
   "outputs": [
    {
     "name": "stdout",
     "output_type": "stream",
     "text": [
      "The MSE on the train set is: 19.8413\n"
     ]
    }
   ],
   "source": [
    "print(\"The MSE on the train set is: {:.4f}\".\\\n",
    "      format(mean_squared_error(y_train, pred_train)))"
   ]
  },
  {
   "cell_type": "code",
   "execution_count": 30,
   "id": "c1a5c3bb",
   "metadata": {},
   "outputs": [
    {
     "name": "stdout",
     "output_type": "stream",
     "text": [
      "The MSE on the test set is: 31.3415\n"
     ]
    }
   ],
   "source": [
    "print(\"The MSE on the test set is: {:.4f}\". \\\n",
    "      format(mean_squared_error(y_test, pred_test)))"
   ]
  },
  {
   "cell_type": "code",
   "execution_count": 31,
   "id": "bec85287",
   "metadata": {},
   "outputs": [
    {
     "name": "stdout",
     "output_type": "stream",
     "text": [
      "The RMSE on the train set is: 4.4544\n"
     ]
    }
   ],
   "source": [
    "print(\"The RMSE on the train set is: {:.4f}\".format(np.sqrt(mean_squared_error(y_train, pred_train))))"
   ]
  },
  {
   "cell_type": "code",
   "execution_count": 32,
   "id": "eb5773d8",
   "metadata": {},
   "outputs": [
    {
     "name": "stdout",
     "output_type": "stream",
     "text": [
      "The RMSE on the test set is: 5.5984\n"
     ]
    }
   ],
   "source": [
    "print(\"The RMSE on the test set is: {:.4f}\".format(np.sqrt(mean_squared_error(y_test, pred_test))))"
   ]
  },
  {
   "cell_type": "markdown",
   "id": "b4c0f87e",
   "metadata": {
    "scrolled": true
   },
   "source": [
    "## Model Diagnostics (Residual Plot) 📊📝\n",
    "\n",
    "One of the tools of regression analysis diagnostics is __residual plot__. The residuals are the difference between the actual values and the predicted values:\n",
    "$$resid= y - \\hat y$$ or \n",
    "$$residuals = actual \\ \\ values - predicted \\ \\ values$$\n",
    "\n",
    " - **Residual plot**: is a graph that shows the **residuals** on the vertical axis and the **predicted values** on the horizontal axis.\n",
    " \n",
    " \n",
    " - If the points in a residual plot are randomly scattered around the horizontal axis, a linear regression model is appropriate for the data; otherwise, a non-linear model is more appropriate.\n",
    " \n",
    " \n",
    " - If there is some strucutre or pattern, that means your model is not capturing all the variances. There could be an interaction between variables, or time data where the time is not considered. If this is the case, the data must be examined again carefully."
   ]
  },
  {
   "cell_type": "code",
   "execution_count": 33,
   "id": "677f9daa",
   "metadata": {},
   "outputs": [],
   "source": [
    "# calculate the residuals\n",
    "resid_train = y_train - pred_train\n",
    "resid_test = y_test - pred_test"
   ]
  },
  {
   "cell_type": "code",
   "execution_count": 34,
   "id": "57878475",
   "metadata": {},
   "outputs": [
    {
     "data": {
      "image/png": "[encoded data removed]",
      "text/plain": [
       "<Figure size 1200x600 with 1 Axes>"
      ]
     },
     "metadata": {},
     "output_type": "display_data"
    }
   ],
   "source": [
    "# Scatter plot the training data\n",
    "plt.figure(figsize= (12, 6))\n",
    "train = plt.scatter(x = pred_train, y = resid_train , c = 'gold', alpha=0.5)\n",
    "\n",
    "# Scatter plot the testing data\n",
    "test = plt.scatter(pred_test, resid_test , c = 'black', alpha=0.5)\n",
    "\n",
    "# Plot a horizontal axis line at 0\n",
    "plt.hlines(y = 0, xmin = -10, xmax = 50)\n",
    "\n",
    "# Labels\n",
    "plt.legend((train, test), ('Training','Test'), loc='upper left')\n",
    "plt.title('Residual Plots')\n",
    "plt.show()"
   ]
  },
  {
   "cell_type": "markdown",
   "id": "22d630bf",
   "metadata": {},
   "source": [
    "It seems there is not an abvious pattern in the residual plot, and all the points are plotted above and below the horizontal line. "
   ]
  },
  {
   "cell_type": "markdown",
   "id": "b890c47d",
   "metadata": {},
   "source": [
    "## Problems are to be considered:\n",
    "\n",
    "1. The model was tested only once and only a one portion of the data, so, is this the best technique? and is it the efficient technique to test the model?\n",
    "\n",
    "Consider this case: \n",
    "\n",
    "   - If we split the data again to train and test data, are we going to have the same results?\n",
    "\n",
    "2. We assumed the relationship is linear, which might not be the case, shouldn't we consider another non-linear algorithm!. \n",
    "\n",
    "3. We didn't consider any interactions between variables, but there might be some interactions.\n",
    "\n",
    "4. No data transformation has been done. So, if we transform the features, we expect some improvement in the model.\n",
    "\n",
    "\n",
    "All the previous questions should be taken under consideration to improve the model."
   ]
  },
  {
   "cell_type": "markdown",
   "id": "78b23bc6",
   "metadata": {},
   "source": [
    "## Try to improve the model by coming back the step of building the model. \n",
    "\n",
    "In the next lecture, we will learn how to improve the predictive power of our models by learning new techniques about __tweaking or tuning__ the model's options. \n",
    "\n",
    "### Here are the topics of the next tutorial \n",
    "\n",
    "  1. K-fold Cross-Validation (CV)\n",
    "  \n",
    "  \n",
    "  2. Data Transformation\n",
    "     - Standardization\n",
    "     - Normalization\n",
    "     - Log Transformation\n",
    "     \n",
    "     \n",
    "  3. Hyper-Parameter Tuning\n",
    "  \n",
    "     - Ridge Regression\n",
    "     - Lasso Regression"
   ]
  },
  {
   "cell_type": "markdown",
   "id": "f5c4b0e5",
   "metadata": {},
   "source": [
    "__________________________________________________________________\n",
    "# <span style=\"color:Purple\">End The Project, *Thank you*</span> 🔚🥀\n",
    "__________________________________________________________________"
   ]
  }
 ],
 "metadata": {
  "kernelspec": {
   "display_name": "Python 3 (ipykernel)",
   "language": "python",
   "name": "python3"
  },
  "language_info": {
   "codemirror_mode": {
    "name": "ipython",
    "version": 3
   },
   "file_extension": ".py",
   "mimetype": "text/x-python",
   "name": "python",
   "nbconvert_exporter": "python",
   "pygments_lexer": "ipython3",
   "version": "3.9.13"
  }
 },
 "nbformat": 4,
 "nbformat_minor": 5
}
