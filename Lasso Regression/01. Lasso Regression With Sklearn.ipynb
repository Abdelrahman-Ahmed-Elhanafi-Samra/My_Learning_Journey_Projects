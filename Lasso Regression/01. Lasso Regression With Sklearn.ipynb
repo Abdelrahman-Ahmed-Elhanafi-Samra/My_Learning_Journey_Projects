{
 "cells": [
  {
   "cell_type": "markdown",
   "id": "fec63f27",
   "metadata": {},
   "source": [
    "<img src=\"./files/Lasso Regression with sklearn.png\"\n",
    "     alt=\"Lasso Regression with sklearn\"\n",
    "     style=\"float: left; margin-right: 10px;\" />"
   ]
  },
  {
   "cell_type": "markdown",
   "id": "c7bcae10",
   "metadata": {},
   "source": [
    "____________________________________________________________________________________________________\n",
    "# <center><span style=\"color:Purple\">Hello this is, *Ridge Regression with sklearn*</span>. 🤖💻\n",
    "____________________________________________________________________________________________________"
   ]
  },
  {
   "cell_type": "markdown",
   "id": "0bbeb5a3",
   "metadata": {},
   "source": [
    "## Setting Up the Working Environment 🛠️"
   ]
  },
  {
   "cell_type": "code",
   "execution_count": 1,
   "id": "a26b6c95",
   "metadata": {},
   "outputs": [],
   "source": [
    "import pandas as pd\n",
    "import numpy as np\n",
    "import seaborn as sns\n",
    "import matplotlib.pyplot as plt\n",
    "%matplotlib inline\n",
    "plt.style.use('ggplot')"
   ]
  },
  {
   "cell_type": "markdown",
   "id": "8932a0e4",
   "metadata": {},
   "source": [
    "## Importing Datasets 📖"
   ]
  },
  {
   "cell_type": "code",
   "execution_count": 2,
   "id": "17010df8",
   "metadata": {},
   "outputs": [],
   "source": [
    "import warnings\n",
    "warnings.filterwarnings('ignore')\n",
    "# ---------------------------------\n",
    "\n",
    "from sklearn.datasets import load_boston"
   ]
  },
  {
   "cell_type": "markdown",
   "id": "2dfa63bc",
   "metadata": {},
   "source": [
    "## The Working Dataset 🔎"
   ]
  },
  {
   "cell_type": "code",
   "execution_count": 3,
   "id": "0585b551",
   "metadata": {},
   "outputs": [],
   "source": [
    "X  = load_boston().data\n",
    "y = load_boston().target"
   ]
  },
  {
   "cell_type": "code",
   "execution_count": 4,
   "id": "0d00d0f7",
   "metadata": {},
   "outputs": [
    {
     "data": {
      "text/html": [
       "<div>\n",
       "<style scoped>\n",
       "    .dataframe tbody tr th:only-of-type {\n",
       "        vertical-align: middle;\n",
       "    }\n",
       "\n",
       "    .dataframe tbody tr th {\n",
       "        vertical-align: top;\n",
       "    }\n",
       "\n",
       "    .dataframe thead th {\n",
       "        text-align: right;\n",
       "    }\n",
       "</style>\n",
       "<table border=\"1\" class=\"dataframe\">\n",
       "  <thead>\n",
       "    <tr style=\"text-align: right;\">\n",
       "      <th></th>\n",
       "      <th>CRIM</th>\n",
       "      <th>ZN</th>\n",
       "      <th>INDUS</th>\n",
       "      <th>CHAS</th>\n",
       "      <th>NOX</th>\n",
       "      <th>RM</th>\n",
       "      <th>AGE</th>\n",
       "      <th>DIS</th>\n",
       "      <th>RAD</th>\n",
       "      <th>TAX</th>\n",
       "      <th>PTRATIO</th>\n",
       "      <th>B</th>\n",
       "      <th>LSTAT</th>\n",
       "      <th>Price</th>\n",
       "    </tr>\n",
       "  </thead>\n",
       "  <tbody>\n",
       "    <tr>\n",
       "      <th>24.0</th>\n",
       "      <td>0.00632</td>\n",
       "      <td>18.0</td>\n",
       "      <td>2.31</td>\n",
       "      <td>0.0</td>\n",
       "      <td>0.538</td>\n",
       "      <td>6.575</td>\n",
       "      <td>65.2</td>\n",
       "      <td>4.0900</td>\n",
       "      <td>1.0</td>\n",
       "      <td>296.0</td>\n",
       "      <td>15.3</td>\n",
       "      <td>396.90</td>\n",
       "      <td>4.98</td>\n",
       "      <td>24.0</td>\n",
       "    </tr>\n",
       "    <tr>\n",
       "      <th>21.6</th>\n",
       "      <td>0.02731</td>\n",
       "      <td>0.0</td>\n",
       "      <td>7.07</td>\n",
       "      <td>0.0</td>\n",
       "      <td>0.469</td>\n",
       "      <td>6.421</td>\n",
       "      <td>78.9</td>\n",
       "      <td>4.9671</td>\n",
       "      <td>2.0</td>\n",
       "      <td>242.0</td>\n",
       "      <td>17.8</td>\n",
       "      <td>396.90</td>\n",
       "      <td>9.14</td>\n",
       "      <td>21.6</td>\n",
       "    </tr>\n",
       "    <tr>\n",
       "      <th>34.7</th>\n",
       "      <td>0.02729</td>\n",
       "      <td>0.0</td>\n",
       "      <td>7.07</td>\n",
       "      <td>0.0</td>\n",
       "      <td>0.469</td>\n",
       "      <td>7.185</td>\n",
       "      <td>61.1</td>\n",
       "      <td>4.9671</td>\n",
       "      <td>2.0</td>\n",
       "      <td>242.0</td>\n",
       "      <td>17.8</td>\n",
       "      <td>392.83</td>\n",
       "      <td>4.03</td>\n",
       "      <td>34.7</td>\n",
       "    </tr>\n",
       "    <tr>\n",
       "      <th>33.4</th>\n",
       "      <td>0.03237</td>\n",
       "      <td>0.0</td>\n",
       "      <td>2.18</td>\n",
       "      <td>0.0</td>\n",
       "      <td>0.458</td>\n",
       "      <td>6.998</td>\n",
       "      <td>45.8</td>\n",
       "      <td>6.0622</td>\n",
       "      <td>3.0</td>\n",
       "      <td>222.0</td>\n",
       "      <td>18.7</td>\n",
       "      <td>394.63</td>\n",
       "      <td>2.94</td>\n",
       "      <td>33.4</td>\n",
       "    </tr>\n",
       "    <tr>\n",
       "      <th>36.2</th>\n",
       "      <td>0.06905</td>\n",
       "      <td>0.0</td>\n",
       "      <td>2.18</td>\n",
       "      <td>0.0</td>\n",
       "      <td>0.458</td>\n",
       "      <td>7.147</td>\n",
       "      <td>54.2</td>\n",
       "      <td>6.0622</td>\n",
       "      <td>3.0</td>\n",
       "      <td>222.0</td>\n",
       "      <td>18.7</td>\n",
       "      <td>396.90</td>\n",
       "      <td>5.33</td>\n",
       "      <td>36.2</td>\n",
       "    </tr>\n",
       "    <tr>\n",
       "      <th>28.7</th>\n",
       "      <td>0.02985</td>\n",
       "      <td>0.0</td>\n",
       "      <td>2.18</td>\n",
       "      <td>0.0</td>\n",
       "      <td>0.458</td>\n",
       "      <td>6.430</td>\n",
       "      <td>58.7</td>\n",
       "      <td>6.0622</td>\n",
       "      <td>3.0</td>\n",
       "      <td>222.0</td>\n",
       "      <td>18.7</td>\n",
       "      <td>394.12</td>\n",
       "      <td>5.21</td>\n",
       "      <td>28.7</td>\n",
       "    </tr>\n",
       "    <tr>\n",
       "      <th>22.9</th>\n",
       "      <td>0.08829</td>\n",
       "      <td>12.5</td>\n",
       "      <td>7.87</td>\n",
       "      <td>0.0</td>\n",
       "      <td>0.524</td>\n",
       "      <td>6.012</td>\n",
       "      <td>66.6</td>\n",
       "      <td>5.5605</td>\n",
       "      <td>5.0</td>\n",
       "      <td>311.0</td>\n",
       "      <td>15.2</td>\n",
       "      <td>395.60</td>\n",
       "      <td>12.43</td>\n",
       "      <td>22.9</td>\n",
       "    </tr>\n",
       "    <tr>\n",
       "      <th>27.1</th>\n",
       "      <td>0.14455</td>\n",
       "      <td>12.5</td>\n",
       "      <td>7.87</td>\n",
       "      <td>0.0</td>\n",
       "      <td>0.524</td>\n",
       "      <td>6.172</td>\n",
       "      <td>96.1</td>\n",
       "      <td>5.9505</td>\n",
       "      <td>5.0</td>\n",
       "      <td>311.0</td>\n",
       "      <td>15.2</td>\n",
       "      <td>396.90</td>\n",
       "      <td>19.15</td>\n",
       "      <td>27.1</td>\n",
       "    </tr>\n",
       "    <tr>\n",
       "      <th>16.5</th>\n",
       "      <td>0.21124</td>\n",
       "      <td>12.5</td>\n",
       "      <td>7.87</td>\n",
       "      <td>0.0</td>\n",
       "      <td>0.524</td>\n",
       "      <td>5.631</td>\n",
       "      <td>100.0</td>\n",
       "      <td>6.0821</td>\n",
       "      <td>5.0</td>\n",
       "      <td>311.0</td>\n",
       "      <td>15.2</td>\n",
       "      <td>386.63</td>\n",
       "      <td>29.93</td>\n",
       "      <td>16.5</td>\n",
       "    </tr>\n",
       "    <tr>\n",
       "      <th>18.9</th>\n",
       "      <td>0.17004</td>\n",
       "      <td>12.5</td>\n",
       "      <td>7.87</td>\n",
       "      <td>0.0</td>\n",
       "      <td>0.524</td>\n",
       "      <td>6.004</td>\n",
       "      <td>85.9</td>\n",
       "      <td>6.5921</td>\n",
       "      <td>5.0</td>\n",
       "      <td>311.0</td>\n",
       "      <td>15.2</td>\n",
       "      <td>386.71</td>\n",
       "      <td>17.10</td>\n",
       "      <td>18.9</td>\n",
       "    </tr>\n",
       "  </tbody>\n",
       "</table>\n",
       "</div>"
      ],
      "text/plain": [
       "         CRIM    ZN  INDUS  CHAS    NOX     RM    AGE     DIS  RAD    TAX  \\\n",
       "24.0  0.00632  18.0   2.31   0.0  0.538  6.575   65.2  4.0900  1.0  296.0   \n",
       "21.6  0.02731   0.0   7.07   0.0  0.469  6.421   78.9  4.9671  2.0  242.0   \n",
       "34.7  0.02729   0.0   7.07   0.0  0.469  7.185   61.1  4.9671  2.0  242.0   \n",
       "33.4  0.03237   0.0   2.18   0.0  0.458  6.998   45.8  6.0622  3.0  222.0   \n",
       "36.2  0.06905   0.0   2.18   0.0  0.458  7.147   54.2  6.0622  3.0  222.0   \n",
       "28.7  0.02985   0.0   2.18   0.0  0.458  6.430   58.7  6.0622  3.0  222.0   \n",
       "22.9  0.08829  12.5   7.87   0.0  0.524  6.012   66.6  5.5605  5.0  311.0   \n",
       "27.1  0.14455  12.5   7.87   0.0  0.524  6.172   96.1  5.9505  5.0  311.0   \n",
       "16.5  0.21124  12.5   7.87   0.0  0.524  5.631  100.0  6.0821  5.0  311.0   \n",
       "18.9  0.17004  12.5   7.87   0.0  0.524  6.004   85.9  6.5921  5.0  311.0   \n",
       "\n",
       "      PTRATIO       B  LSTAT  Price  \n",
       "24.0     15.3  396.90   4.98   24.0  \n",
       "21.6     17.8  396.90   9.14   21.6  \n",
       "34.7     17.8  392.83   4.03   34.7  \n",
       "33.4     18.7  394.63   2.94   33.4  \n",
       "36.2     18.7  396.90   5.33   36.2  \n",
       "28.7     18.7  394.12   5.21   28.7  \n",
       "22.9     15.2  395.60  12.43   22.9  \n",
       "27.1     15.2  396.90  19.15   27.1  \n",
       "16.5     15.2  386.63  29.93   16.5  \n",
       "18.9     15.2  386.71  17.10   18.9  "
      ]
     },
     "execution_count": 4,
     "metadata": {},
     "output_type": "execute_result"
    }
   ],
   "source": [
    "## Creating a data frame for later use\n",
    "boston = pd.DataFrame(X, y, columns=load_boston().feature_names)\n",
    "boston['Price'] = y\n",
    "boston.head(10)"
   ]
  },
  {
   "cell_type": "markdown",
   "id": "5bdc14a2",
   "metadata": {},
   "source": [
    "## Importing Lasso Regression sub_module 🧲"
   ]
  },
  {
   "cell_type": "code",
   "execution_count": 5,
   "id": "0680e917",
   "metadata": {},
   "outputs": [],
   "source": [
    "# Import Lasso \n",
    "from sklearn.linear_model import Lasso"
   ]
  },
  {
   "cell_type": "code",
   "execution_count": 6,
   "id": "eb5fbc7f",
   "metadata": {},
   "outputs": [],
   "source": [
    "# Instantiate Lasso object, set alpha to 0.1 and normalize to True\n",
    "lasso_reg = Lasso(alpha = 0.1, normalize = True)"
   ]
  },
  {
   "cell_type": "markdown",
   "id": "612097f3",
   "metadata": {},
   "source": [
    "## Lasso Regression Parameters 📐"
   ]
  },
  {
   "cell_type": "code",
   "execution_count": 7,
   "id": "9192b7a9",
   "metadata": {
    "scrolled": true
   },
   "outputs": [
    {
     "data": {
      "text/plain": [
       "{'alpha': 0.1,\n",
       " 'copy_X': True,\n",
       " 'fit_intercept': True,\n",
       " 'max_iter': 1000,\n",
       " 'normalize': True,\n",
       " 'positive': False,\n",
       " 'precompute': False,\n",
       " 'random_state': None,\n",
       " 'selection': 'cyclic',\n",
       " 'tol': 0.0001,\n",
       " 'warm_start': False}"
      ]
     },
     "execution_count": 7,
     "metadata": {},
     "output_type": "execute_result"
    }
   ],
   "source": [
    "lasso_reg.get_params()"
   ]
  },
  {
   "cell_type": "markdown",
   "id": "d9fd5b7a",
   "metadata": {},
   "source": [
    "## Fiting Lasso Regression ⚙️"
   ]
  },
  {
   "cell_type": "code",
   "execution_count": 8,
   "id": "f0d6ee2c",
   "metadata": {},
   "outputs": [
    {
     "data": {
      "text/plain": [
       "Lasso(alpha=0.1, normalize=True)"
      ]
     },
     "execution_count": 8,
     "metadata": {},
     "output_type": "execute_result"
    }
   ],
   "source": [
    "# Fit Lasso Regression\n",
    "lasso_reg.fit(X, y)"
   ]
  },
  {
   "cell_type": "code",
   "execution_count": 9,
   "id": "906ed08e",
   "metadata": {},
   "outputs": [
    {
     "data": {
      "text/html": [
       "<div>\n",
       "<style scoped>\n",
       "    .dataframe tbody tr th:only-of-type {\n",
       "        vertical-align: middle;\n",
       "    }\n",
       "\n",
       "    .dataframe tbody tr th {\n",
       "        vertical-align: top;\n",
       "    }\n",
       "\n",
       "    .dataframe thead th {\n",
       "        text-align: right;\n",
       "    }\n",
       "</style>\n",
       "<table border=\"1\" class=\"dataframe\">\n",
       "  <thead>\n",
       "    <tr style=\"text-align: right;\">\n",
       "      <th></th>\n",
       "      <th>Feature_names</th>\n",
       "      <th>Estimates</th>\n",
       "    </tr>\n",
       "  </thead>\n",
       "  <tbody>\n",
       "    <tr>\n",
       "      <th>0</th>\n",
       "      <td>CRIM</td>\n",
       "      <td>-0.000000</td>\n",
       "    </tr>\n",
       "    <tr>\n",
       "      <th>1</th>\n",
       "      <td>ZN</td>\n",
       "      <td>0.000000</td>\n",
       "    </tr>\n",
       "    <tr>\n",
       "      <th>2</th>\n",
       "      <td>INDUS</td>\n",
       "      <td>-0.000000</td>\n",
       "    </tr>\n",
       "    <tr>\n",
       "      <th>3</th>\n",
       "      <td>CHAS</td>\n",
       "      <td>0.000000</td>\n",
       "    </tr>\n",
       "    <tr>\n",
       "      <th>4</th>\n",
       "      <td>NOX</td>\n",
       "      <td>-0.000000</td>\n",
       "    </tr>\n",
       "    <tr>\n",
       "      <th>5</th>\n",
       "      <td>RM</td>\n",
       "      <td>2.954695</td>\n",
       "    </tr>\n",
       "    <tr>\n",
       "      <th>6</th>\n",
       "      <td>AGE</td>\n",
       "      <td>-0.000000</td>\n",
       "    </tr>\n",
       "    <tr>\n",
       "      <th>7</th>\n",
       "      <td>DIS</td>\n",
       "      <td>0.000000</td>\n",
       "    </tr>\n",
       "    <tr>\n",
       "      <th>8</th>\n",
       "      <td>RAD</td>\n",
       "      <td>-0.000000</td>\n",
       "    </tr>\n",
       "    <tr>\n",
       "      <th>9</th>\n",
       "      <td>TAX</td>\n",
       "      <td>-0.000000</td>\n",
       "    </tr>\n",
       "    <tr>\n",
       "      <th>10</th>\n",
       "      <td>PTRATIO</td>\n",
       "      <td>-0.247958</td>\n",
       "    </tr>\n",
       "    <tr>\n",
       "      <th>11</th>\n",
       "      <td>B</td>\n",
       "      <td>0.000000</td>\n",
       "    </tr>\n",
       "    <tr>\n",
       "      <th>12</th>\n",
       "      <td>LSTAT</td>\n",
       "      <td>-0.428174</td>\n",
       "    </tr>\n",
       "  </tbody>\n",
       "</table>\n",
       "</div>"
      ],
      "text/plain": [
       "   Feature_names  Estimates\n",
       "0           CRIM  -0.000000\n",
       "1             ZN   0.000000\n",
       "2          INDUS  -0.000000\n",
       "3           CHAS   0.000000\n",
       "4            NOX  -0.000000\n",
       "5             RM   2.954695\n",
       "6            AGE  -0.000000\n",
       "7            DIS   0.000000\n",
       "8            RAD  -0.000000\n",
       "9            TAX  -0.000000\n",
       "10       PTRATIO  -0.247958\n",
       "11             B   0.000000\n",
       "12         LSTAT  -0.428174"
      ]
     },
     "execution_count": 9,
     "metadata": {},
     "output_type": "execute_result"
    }
   ],
   "source": [
    "## Check the results\n",
    "feature_names = boston.drop('Price', axis = 1).columns\n",
    "\n",
    "lasso_coef = lasso_reg.coef_\n",
    "\n",
    "pd.DataFrame(list(zip(feature_names, lasso_coef)), \n",
    "             columns = ['Feature_names', 'Estimates'])"
   ]
  },
  {
   "cell_type": "code",
   "execution_count": 10,
   "id": "e8941bc0",
   "metadata": {},
   "outputs": [
    {
     "data": {
      "image/png": "[encoded data removed]",
      "text/plain": [
       "<Figure size 1000x800 with 1 Axes>"
      ]
     },
     "metadata": {},
     "output_type": "display_data"
    }
   ],
   "source": [
    "## Plot the lasso coefficients \n",
    "plt.figure(figsize=(10, 8))\n",
    "plt.plot(range(len(feature_names)), lasso_coef)\n",
    "plt.xticks(range(len(feature_names)),\n",
    "                feature_names.values, \n",
    "                rotation = 45)\n",
    "plt.ylabel('Coefficients')\n",
    "plt.show()"
   ]
  },
  {
   "cell_type": "markdown",
   "id": "1b5f99a6",
   "metadata": {},
   "source": [
    "## Training Lasso Regression with Train/Test split 🥇"
   ]
  },
  {
   "cell_type": "code",
   "execution_count": 11,
   "id": "7ec7048a",
   "metadata": {},
   "outputs": [],
   "source": [
    "X  = load_boston().data\n",
    "y = load_boston().target"
   ]
  },
  {
   "cell_type": "code",
   "execution_count": 12,
   "id": "0aee24a8",
   "metadata": {},
   "outputs": [],
   "source": [
    "# Split the data set into train and test sets using 75% for Training \n",
    "from sklearn.model_selection import train_test_split\n",
    "\n",
    "X_train, X_test, y_train, y_test = train_test_split(X, y, test_size = 0.25, random_state = 10123)"
   ]
  },
  {
   "cell_type": "markdown",
   "id": "728b323f",
   "metadata": {},
   "source": [
    "## Train Lasso model with alpha = 0.1 ⚙️"
   ]
  },
  {
   "cell_type": "code",
   "execution_count": 13,
   "id": "a042d2d4",
   "metadata": {},
   "outputs": [],
   "source": [
    "# Import Lasso \n",
    "from sklearn.linear_model import Lasso"
   ]
  },
  {
   "cell_type": "code",
   "execution_count": 14,
   "id": "98ee9fd9",
   "metadata": {},
   "outputs": [],
   "source": [
    "# Instantiate Lasso object\n",
    "lasso_reg = Lasso(alpha = 0.1)"
   ]
  },
  {
   "cell_type": "code",
   "execution_count": 15,
   "id": "fb015a7c",
   "metadata": {},
   "outputs": [
    {
     "data": {
      "text/plain": [
       "Lasso(alpha=0.1)"
      ]
     },
     "execution_count": 15,
     "metadata": {},
     "output_type": "execute_result"
    }
   ],
   "source": [
    "# Fit the model on the training set\n",
    "lasso_reg.fit(X_train, y_train)"
   ]
  },
  {
   "cell_type": "code",
   "execution_count": 16,
   "id": "50623bf5",
   "metadata": {},
   "outputs": [
    {
     "name": "stdout",
     "output_type": "stream",
     "text": [
      "The  R^2 score on training set:74.9519\n",
      "The R^2 score on test set: 64.8656\n"
     ]
    }
   ],
   "source": [
    "# Print the results both on training and test set\n",
    "print('The  R^2 score on training set:{:.4f}'.format(lasso_reg.score(X_train, y_train) * 100))\n",
    "\n",
    "\n",
    "print('The R^2 score on test set: {:.4f}'.format(lasso_reg.score(X_test, y_test)*100))"
   ]
  },
  {
   "cell_type": "markdown",
   "id": "3616db75",
   "metadata": {},
   "source": [
    "## Fitting Lasso Regression with a range of alpha values "
   ]
  },
  {
   "cell_type": "code",
   "execution_count": 17,
   "id": "2d12acf8",
   "metadata": {},
   "outputs": [],
   "source": [
    "alphas = (0.001, 0.01, 0.1, 0.5, 1, 2, 5, 10)\n",
    "\n",
    "coeffs = []\n",
    "train_r_squared = []\n",
    "test_r_squared = []"
   ]
  },
  {
   "cell_type": "code",
   "execution_count": 18,
   "id": "a1e696bf",
   "metadata": {},
   "outputs": [],
   "source": [
    "# Fit lasso regression over each alpha value\n",
    "for i in alphas:    \n",
    "    lasso = Lasso(alpha = i)\n",
    "    lasso.fit(X_train, y_train)\n",
    "\n",
    "    coeffs.append(lasso.coef_)\n",
    "    \n",
    "    train_r_squared.append(lasso.score(X_train, y_train))\n",
    "    test_r_squared.append(lasso.score(X_test, y_test))"
   ]
  },
  {
   "cell_type": "markdown",
   "id": "b3ebb298",
   "metadata": {},
   "source": [
    "## Plotting The R^2 of Train and Test sets 🪶"
   ]
  },
  {
   "cell_type": "code",
   "execution_count": 19,
   "id": "c5a66e5a",
   "metadata": {},
   "outputs": [
    {
     "data": {
      "image/png": "[encoded data removed]",
      "text/plain": [
       "<Figure size 1800x800 with 1 Axes>"
      ]
     },
     "metadata": {},
     "output_type": "display_data"
    }
   ],
   "source": [
    "# Plotting\n",
    "plt.figure(figsize = (18, 8))\n",
    "\n",
    "plt.plot(train_r_squared, 'bo',\n",
    "         linestyle = 'dashed',\n",
    "         label = r'$R^2$ Training set',\n",
    "         color = \"black\",\n",
    "         linewidth = 3,\n",
    "         markersize = 8)\n",
    "\n",
    "plt.plot(test_r_squared, marker = 's',\n",
    "         label = r'$R^2$ Test set',\n",
    "         color = \"gold\", \n",
    "         alpha = 0.6, \n",
    "         linewidth = 3, \n",
    "         markersize = 8)\n",
    "\n",
    "\n",
    "plt.xlabel('Lamda index')\n",
    "plt.ylabel(r'$R^2$')\n",
    "plt.xlim(0, 6)\n",
    "plt.title(r'Evaluate lasso regression with lamdas: 0 = 0.001, 1= 0.01, 2 = 0.1, 3 = 0.5, 4= 1, 5= 2, 6 = 10')\n",
    "\n",
    "plt.legend(loc = 'best')\n",
    "plt.grid()"
   ]
  },
  {
   "cell_type": "markdown",
   "id": "f8bac0fe",
   "metadata": {},
   "source": [
    "## Lasso Hyper Parameter Tuning 🔗"
   ]
  },
  {
   "cell_type": "code",
   "execution_count": 20,
   "id": "fd850efb",
   "metadata": {},
   "outputs": [],
   "source": [
    "X = load_boston().data\n",
    "y = load_boston().target"
   ]
  },
  {
   "cell_type": "code",
   "execution_count": 21,
   "id": "04136421",
   "metadata": {},
   "outputs": [],
   "source": [
    "# Import GridSearchCV \n",
    "from sklearn.model_selection import GridSearchCV"
   ]
  },
  {
   "cell_type": "code",
   "execution_count": 22,
   "id": "05f338ac",
   "metadata": {},
   "outputs": [],
   "source": [
    "# Setup the hyperparameter grid\n",
    "alphas = (0.001, 0.01, 0.1, 0.5, 1, 2, 5, 10)\n",
    "param_grid = {'alpha': alphas}"
   ]
  },
  {
   "cell_type": "code",
   "execution_count": 23,
   "id": "d7bd1cd5",
   "metadata": {},
   "outputs": [],
   "source": [
    "# Instantiate ridge regression \n",
    "lasso_reg = Lasso(normalize = True)"
   ]
  },
  {
   "cell_type": "code",
   "execution_count": 24,
   "id": "3fbfc828",
   "metadata": {},
   "outputs": [],
   "source": [
    "# Instantiate GridSearchCV object with 5 folds\n",
    "lasso_cv = GridSearchCV(estimator = lasso_reg, \n",
    "                       param_grid = param_grid, \n",
    "                       cv = 5)"
   ]
  },
  {
   "cell_type": "code",
   "execution_count": 25,
   "id": "6305a247",
   "metadata": {},
   "outputs": [
    {
     "name": "stdout",
     "output_type": "stream",
     "text": [
      "Tuned Ridge Regression Parameter: {'alpha': 0.01}\n",
      "Ridge Regression Best score is 0.40242565909986255\n"
     ]
    }
   ],
   "source": [
    "# Fit it to the data\n",
    "lasso_cv.fit(X, y)\n",
    "\n",
    "# Print the tuned parameters and score\n",
    "print(\"Tuned Ridge Regression Parameter: {}\".format(lasso_cv.best_params_)) \n",
    "print(\"Ridge Regression Best score is {}\".format(lasso_cv.best_score_))"
   ]
  },
  {
   "cell_type": "markdown",
   "id": "5485eda4",
   "metadata": {},
   "source": [
    "__________________________________________________________________\n",
    "# <span style=\"color:Purple\">End The Project, *Thank you*</span> 🔚🥀\n",
    "__________________________________________________________________"
   ]
  }
 ],
 "metadata": {
  "kernelspec": {
   "display_name": "Python 3 (ipykernel)",
   "language": "python",
   "name": "python3"
  },
  "language_info": {
   "codemirror_mode": {
    "name": "ipython",
    "version": 3
   },
   "file_extension": ".py",
   "mimetype": "text/x-python",
   "name": "python",
   "nbconvert_exporter": "python",
   "pygments_lexer": "ipython3",
   "version": "3.9.13"
  }
 },
 "nbformat": 4,
 "nbformat_minor": 5
}
